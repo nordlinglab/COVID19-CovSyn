{
 "cells": [
  {
   "cell_type": "code",
   "execution_count": 1,
   "id": "f315a910",
   "metadata": {},
   "outputs": [],
   "source": [
    "import sys\n",
    "from pathlib import Path\n",
    "# code_path = Path('../../').resolve()\n",
    "# sys.path.append(str(code_path))"
   ]
  },
  {
   "cell_type": "code",
   "execution_count": null,
   "id": "3be93017",
   "metadata": {},
   "outputs": [],
   "source": [
    "%load_ext autoreload\n",
    "%autoreload 2\n",
    "import _path\n",
    "import powerlaw\n",
    "import pandas as pd\n",
    "import numpy as np\n",
    "import matplotlib.pyplot as plt\n",
    "import networkx as nx\n",
    "import scipy.stats as stats\n",
    "import queue\n",
    "import seaborn\n",
    "import random\n",
    "from scipy.optimize import leastsq\n",
    "from rw_data_processing import *\n",
    "from Data_synthesize import *\n",
    "from transition_probability_estimation import *\n",
    "from plot_results import *\n",
    "from firefly_optimizer import *\n",
    "plt.style.use(\"../rw_visualization.mplstyle\")\n"
   ]
  },
  {
   "cell_type": "code",
   "execution_count": null,
   "id": "f52644fb",
   "metadata": {},
   "outputs": [],
   "source": [
    "# import warnings filter\n",
    "from warnings import simplefilter\n",
    "# ignore all future warnings\n",
    "simplefilter(action='ignore', category=FutureWarning)\n",
    "\n",
    "# Color\n",
    "current_palette = seaborn.color_palette()\n",
    "current_palette"
   ]
  },
  {
   "attachments": {},
   "cell_type": "markdown",
   "id": "389d9a65",
   "metadata": {},
   "source": [
    "# 1. Cheng2020"
   ]
  },
  {
   "attachments": {},
   "cell_type": "markdown",
   "id": "bc4c4408",
   "metadata": {},
   "source": [
    "## 1.0 Lode main simulation restuls"
   ]
  },
  {
   "cell_type": "code",
   "execution_count": null,
   "id": "797ceadf",
   "metadata": {},
   "outputs": [],
   "source": [
    "data_path = Path('../synthetic_data_results_cheng2020')\n",
    "demographic_data_list, social_data_list, course_of_disease_data_list, contact_data_list, case_edge_list_list = \\\n",
    "    load_synthetic_data(data_path, monte_carlo_number=100)"
   ]
  },
  {
   "cell_type": "code",
   "execution_count": 14,
   "id": "3d9a19ba",
   "metadata": {},
   "outputs": [],
   "source": [
    "demographic_data_all = np.concatenate(demographic_data_list, axis=0)\n",
    "social_data_all = np.concatenate(social_data_list, axis=0)\n",
    "contact_data_all = np.concatenate(contact_data_list, axis=0)\n",
    "course_of_disease_data_all = np.concatenate(course_of_disease_data_list, axis=0)\n",
    "case_edge_list_all = np.concatenate(case_edge_list_list, axis=0)\n"
   ]
  },
  {
   "attachments": {},
   "cell_type": "markdown",
   "id": "1120223e",
   "metadata": {},
   "source": [
    "## 1.1 Cheng2020 Figure 2"
   ]
  },
  {
   "cell_type": "code",
   "execution_count": null,
   "id": "28b56863",
   "metadata": {},
   "outputs": [],
   "source": [
    "household_lower_bound = np.array([1.6, 1.4, 3, 0, 0, 0])/100\n",
    "household_upper_bound = np.array([9.8, 16.8, 56.4, 49, 65.7, 100])/100\n",
    "household_range = household_upper_bound-household_lower_bound\n",
    "household_weight = 1/household_range\n",
    "norm_household_weight = household_weight/max(household_weight)\n",
    "print('household_weight: ', norm_household_weight)"
   ]
  },
  {
   "cell_type": "code",
   "execution_count": null,
   "id": "3648ff66",
   "metadata": {},
   "outputs": [],
   "source": [
    "health_care_lower_bound = np.array([0.2, 0.7, 0.5, 0, 0, 0])/100\n",
    "health_care_upper_bound = np.array([3, 5.7, 13.5, 18.4, 3.3, 2.6])/100\n",
    "health_care_range = health_care_upper_bound-health_care_lower_bound\n",
    "health_care_weight = 1/health_care_range\n",
    "norm_health_care_weight = health_care_weight/max(health_care_weight)\n",
    "print('health_care_weight: ', norm_health_care_weight)"
   ]
  },
  {
   "cell_type": "code",
   "execution_count": null,
   "id": "c9264282",
   "metadata": {},
   "outputs": [],
   "source": [
    "other_lower_bound = np.array([0, 0, 0.1, 0, 0, 0])/100\n",
    "other_upper_bound = np.array([1, 0.6, 3.3, 4.2, 1.1, 3.3])/100\n",
    "other_range = other_upper_bound-other_lower_bound\n",
    "other_weight = 1/other_range\n",
    "norm_other_weight = other_weight/max(other_weight)\n",
    "print('other_weight: ', norm_other_weight)"
   ]
  },
  {
   "cell_type": "code",
   "execution_count": 18,
   "id": "d0552586",
   "metadata": {},
   "outputs": [],
   "source": [
    "total_household_contact_numbers = []\n",
    "for i in range(100):\n",
    "    tmp = []\n",
    "    for contact_data in contact_data_all[i*100:(i+1)*100]:\n",
    "        tmp.append(len(contact_data['household_contacts_matrix']))\n",
    "    total_household_contact_numbers.append(sum(tmp))"
   ]
  },
  {
   "cell_type": "code",
   "execution_count": null,
   "id": "61573347",
   "metadata": {},
   "outputs": [],
   "source": [
    "# Household\n",
    "layer = 'Household'\n",
    "ax1, ax2 = plot_cheng2020_fig2(\n",
    "    course_of_disease_data_all, contact_data_all, monte_carlo_number=100, num_source_cases=100, layer=layer, save_fig=False)\n",
    "ax1.set_ylim(0, 150)\n",
    "ax1.set_ylabel('Household contacts')\n",
    "ax1.set_xlabel(\"\")\n",
    "ax2.set_ylim(0, 65)\n",
    "ax2.set_ylabel(\"\")\n",
    "# ax1.set_title('Synthetic data')\n",
    "# plt.savefig('RW2022_synthesis_%s_contact_bar_chart.pdf' % layer)\n",
    "\n",
    "ax1, ax2 = plot_cheng2020_bar_chart(layer='Household', save_fig=False)\n",
    "ax1.set_ylim(0, 150)\n",
    "# ax1.set_ylabel('Household contacts')\n",
    "ax1.set_xlabel(\"\")\n",
    "ax1.set_ylabel(\"\")\n",
    "ax2.set_ylim(0, 65)\n",
    "# ax1.set_title('Cheng2020')\n",
    "plt.savefig('RW2022_cheng_%s_bar_chart.pdf' % layer)\n"
   ]
  },
  {
   "cell_type": "code",
   "execution_count": null,
   "id": "73bba882",
   "metadata": {},
   "outputs": [],
   "source": [
    "# Health care\n",
    "layer = 'Health care'\n",
    "ax1, ax2 = plot_cheng2020_fig2(\n",
    "    course_of_disease_data_all, contact_data_all, monte_carlo_number=100, num_source_cases=100,\n",
    "    layer=layer, save_fig=False)\n",
    "ax1.set_ylim(0, 400)\n",
    "ax1.set_ylabel('Health care contacts')\n",
    "ax1.set_xlabel(\"\")\n",
    "ax2.set_ylim(0, 10)\n",
    "ax2.set_ylabel(\"\")\n",
    "# ax1.set_title('Synthetic data')\n",
    "plt.savefig('RW2022_synthesis_%s_contact_bar_chart.pdf' % layer.replace(' ', '_'))\n",
    "\n",
    "\n",
    "ax1, ax2 = plot_cheng2020_bar_chart(layer='Health care', save_fig=False)\n",
    "ax1.set_ylim(0, 400)\n",
    "ax1.set_xlabel(\"\")\n",
    "ax2.set_ylim(0, 10)\n",
    "# ax1.set_title('Cheng2020')\n",
    "plt.savefig('RW2022_cheng_%s_bar_chart.pdf' % layer.replace(' ', '_'))\n"
   ]
  },
  {
   "cell_type": "code",
   "execution_count": null,
   "id": "37aa76f4",
   "metadata": {},
   "outputs": [],
   "source": [
    "# School\n",
    "ax1, ax2 = plot_cheng2020_fig2(\n",
    "    course_of_disease_data_all, contact_data_all, monte_carlo_number=100, num_source_cases=100,\n",
    "    layer='School', save_fig=False)\n",
    "ax1.set_ylabel('School contacs')\n",
    "ax1.set_ylim([0, 100])\n"
   ]
  },
  {
   "cell_type": "code",
   "execution_count": null,
   "id": "412b0b8c",
   "metadata": {},
   "outputs": [],
   "source": [
    "# Workplace\n",
    "ax1, ax2 = plot_cheng2020_fig2(\n",
    "    course_of_disease_data_all, contact_data_all, monte_carlo_number=100, num_source_cases=100,\n",
    "    layer='Workplace', save_fig=False)\n",
    "ax1.set_ylabel('Workplace contacts')\n"
   ]
  },
  {
   "cell_type": "code",
   "execution_count": null,
   "id": "5fa6822e",
   "metadata": {},
   "outputs": [],
   "source": [
    "# All\n",
    "layer = 'All'\n",
    "ax1, ax2 = plot_cheng2020_fig2(\n",
    "    course_of_disease_data_all, contact_data_all, monte_carlo_number=1000, num_source_cases=100,\n",
    "    layer=layer, save_fig=False)\n",
    "ax1.set_ylim(0, 1200)\n",
    "ax2.set_ylim(0, 10)\n",
    "ax1.set_ylabel('All contacts')\n",
    "ax2.set_ylabel(\"\")\n",
    "# ax1.set_title('Synthetic data')\n",
    "plt.savefig('RW2022_synthesis_%s_contact_bar_chart.pdf' % layer)\n",
    "\n",
    "ax1, ax2 = plot_cheng2020_bar_chart(layer='All', save_fig=False)\n",
    "ax1.set_ylim(0, 1200)\n",
    "ax2.set_ylim(0, 10)\n",
    "# ax1.set_title('Cheng2020')\n",
    "plt.savefig('RW2022_cheng_%s_bar_chart.pdf' % layer)\n"
   ]
  },
  {
   "attachments": {},
   "cell_type": "markdown",
   "id": "a6d6782a",
   "metadata": {},
   "source": [
    "## 1.2 Plot the detail contact date and infection data bar char"
   ]
  },
  {
   "cell_type": "code",
   "execution_count": null,
   "id": "0d212db3",
   "metadata": {},
   "outputs": [],
   "source": [
    "contact_day_shift, exposure_day_array, daily_contact_array, infection_day_shift, daily_infection_array, daily_secondary_attack_rate = \\\n",
    "    generate_contact_day_vs_infection_day_array(course_of_disease_data_all[0:1], contact_data_all[0:1])\n",
    "print(f'contact_day_shift: {contact_day_shift}')\n",
    "print(f'exposure_day_array: {exposure_day_array}')\n",
    "print(f'daily_contact_array: {daily_contact_array}')\n",
    "print(f'infection_day_shift: {infection_day_shift}')\n",
    "print(f'daily_infection_array: {daily_infection_array}')\n",
    "print(f'daily_secondary_attack_rate: {daily_secondary_attack_rate}')"
   ]
  },
  {
   "cell_type": "code",
   "execution_count": null,
   "id": "b42111b1",
   "metadata": {},
   "outputs": [],
   "source": [
    "save_fig = False\n",
    "plot_contact_day_vs_infection_day(course_of_disease_data_all, contact_data_all, attack_y_limit=10, monte_carlo_number=100, num_source_cases=100, layer='Household', save_fig=save_fig)\n",
    "plot_contact_day_vs_infection_day(course_of_disease_data_all, contact_data_all, attack_y_limit=5, monte_carlo_number=100, num_source_cases=100, layer='School', save_fig=save_fig)\n",
    "plot_contact_day_vs_infection_day(course_of_disease_data_all, contact_data_all, attack_y_limit=5, monte_carlo_number=100, num_source_cases=100, layer='Workplace', save_fig=save_fig)\n",
    "plot_contact_day_vs_infection_day(course_of_disease_data_all, contact_data_all, attack_y_limit=5, monte_carlo_number=100, num_source_cases=100, layer='Health care', save_fig=save_fig)\n",
    "plot_contact_day_vs_infection_day(course_of_disease_data_all, contact_data_all, attack_y_limit=2, monte_carlo_number=100, num_source_cases=100, layer='Municipality', save_fig=save_fig)\n",
    "plot_contact_day_vs_infection_day(course_of_disease_data_all, contact_data_all, attack_y_limit=2, monte_carlo_number=100,num_source_cases=100, layer='All', save_fig=save_fig)"
   ]
  },
  {
   "attachments": {},
   "cell_type": "markdown",
   "id": "0463a6de",
   "metadata": {},
   "source": [
    "## 1.3 Plot logistic contact p example"
   ]
  },
  {
   "cell_type": "code",
   "execution_count": null,
   "id": "553eac04",
   "metadata": {},
   "outputs": [],
   "source": [
    "def generate_contact_p(t, ps, ph, s, ts, tr):\n",
    "    y = ph + (ph-ps) - (ph-ps)/(1+np.exp(-s*(t-ts))) - (ph-ps)/(1+np.exp(s*(t-tr)))\n",
    "\n",
    "    return(y)\n",
    "\n",
    "ps, ph, s, ts, tr = 0.4, 0.8, 2, 5, 15\n",
    "t = np.arange(-10, 50, 0.1)\n",
    "y = generate_contact_p(t, ps, ph, s, ts, tr)\n",
    "plt.figure(figsize=(8, 2))\n",
    "plt.plot(t, y)\n",
    "plt.xlim([0, 20])\n",
    "plt.ylim([0.3, 0.9])\n",
    "plt.xticks(np.array([0, ts, tr]), ['$\\mathrm{t_{I^S}}$', '$t_{PS}$', '$t_{PN}$'])\n",
    "plt.yticks(np.array([ps, ph]), ['$p_S$', '$p_H$'])\n",
    "plt.grid()\n",
    "plt.savefig('RW2022_contact_p.pdf')"
   ]
  },
  {
   "cell_type": "code",
   "execution_count": null,
   "id": "ec5cd102",
   "metadata": {},
   "outputs": [],
   "source": [
    "def generate_logistic_contact_p(t, healthy_p, symptom_p, steepness, symptom_phase, width):\n",
    "        # generate_logistic_contact_p: generate contact probability on day t\n",
    "        #     healthy_p: Contact probability when healthy\n",
    "        #     symptom_p: Contact probability when symptomatic\n",
    "        #     steepness: Steepness of the logistic function\n",
    "        #     symptom_phase: Phase relative to symptom-onset for symptomatic (days)\n",
    "        #     width: Days different between symptom phase and normal phase\n",
    "        normal_phase = symptom_phase + width\n",
    "        logistic_p = healthy_p + (healthy_p-symptom_p) - (healthy_p-symptom_p)/(1+np.exp(-steepness*(\n",
    "            t-symptom_phase))) - (healthy_p-symptom_p)/(1+np.exp(steepness*(t-normal_phase)))\n",
    "\n",
    "        return (logistic_p)\n",
    "\n",
    "\n",
    "contact_p, contact_previous_day_p, healthy_p, symptom_p = 0.1, 0.5, 0.1, 0.5\n",
    "p = [contact_p, contact_previous_day_p, healthy_p, symptom_p]\n",
    "steepness, symptom_phase, recover_phase = 10, 5, 2\n",
    "\n",
    "t = np.arange(0, 50, 0.1)\n",
    "logistic_p = generate_logistic_contact_p(t, healthy_p, symptom_p, steepness, symptom_phase, recover_phase)\n",
    "\n",
    "plt.plot(t, logistic_p)\n",
    "plt.grid()\n",
    "plt.xlim([0, 20])"
   ]
  },
  {
   "attachments": {},
   "cell_type": "markdown",
   "id": "c3b1143d",
   "metadata": {},
   "source": [
    "## 1.4 Plot contact number histogram"
   ]
  },
  {
   "cell_type": "code",
   "execution_count": null,
   "id": "c87e420f",
   "metadata": {},
   "outputs": [],
   "source": [
    "contact_date_stack_matrix, index = generate_stack_contact_matrix(contact_data_all[0:100], layer='Household')\n",
    "plt.hist(np.diff(index, prepend=0), bins=100)\n"
   ]
  },
  {
   "cell_type": "code",
   "execution_count": 31,
   "id": "3e643acb",
   "metadata": {},
   "outputs": [],
   "source": [
    "household_effective_contact_array = np.array([])\n",
    "school_effective_contact_array = np.array([])\n",
    "workplace_effective_contact_array = np.array([])\n",
    "health_care_effective_contact_array = np.array([])\n",
    "municipality_effective_contact_array = np.array([])\n",
    "for i in range(100):\n",
    "    if np.nansum(contact_data_all[i]['household_effective_contacts_infection_time']) > 0:\n",
    "        household_effective_contact_array = np.append(household_effective_contact_array, np.count_nonzero(\n",
    "            ~np.isnan(np.array(contact_data_all[i]['household_effective_contacts_infection_time']))))\n",
    "    else:\n",
    "        household_effective_contact_array = np.append(\n",
    "            household_effective_contact_array, 0)\n",
    "\n",
    "    if np.nansum(contact_data_all[i]['school_effective_contacts_infection_time']) > 0:\n",
    "        school_effective_contact_array = np.append(school_effective_contact_array, np.count_nonzero(\n",
    "            ~np.isnan(np.array(contact_data_all[i]['school_effective_contacts_infection_time']))))\n",
    "    else:\n",
    "        school_effective_contact_array = np.append(\n",
    "            school_effective_contact_array, 0)\n",
    "\n",
    "    if np.nansum(contact_data_all[i]['workplace_effective_contacts_infection_time']) > 0:\n",
    "        workplace_effective_contact_array = np.append(workplace_effective_contact_array, np.count_nonzero(\n",
    "            ~np.isnan(np.array(contact_data_all[i]['workplace_effective_contacts_infection_time']))))\n",
    "    else:\n",
    "        workplace_effective_contact_array = np.append(\n",
    "            workplace_effective_contact_array, 0)\n",
    "\n",
    "    if np.nansum(contact_data_all[i]['health_care_effective_contacts_infection_time']) > 0:\n",
    "        health_care_effective_contact_array = np.append(health_care_effective_contact_array, np.count_nonzero(\n",
    "            ~np.isnan(np.array(contact_data_all[i]['health_care_effective_contacts_infection_time']))))\n",
    "    else:\n",
    "        health_care_effective_contact_array = np.append(\n",
    "            health_care_effective_contact_array, 0)\n",
    "\n",
    "    if np.nansum(contact_data_all[i]['municipality_effective_contacts_infection_time']) > 0:\n",
    "        municipality_effective_contact_array = np.append(municipality_effective_contact_array, np.count_nonzero(\n",
    "            ~np.isnan(np.array(contact_data_all[i]['municipality_effective_contacts_infection_time']))))\n",
    "    else:\n",
    "        municipality_effective_contact_array = np.append(\n",
    "            municipality_effective_contact_array, 0)\n",
    "\n",
    "all_effective_contact_array = household_effective_contact_array + school_effective_contact_array + \\\n",
    "    workplace_effective_contact_array + health_care_effective_contact_array + municipality_effective_contact_array\n"
   ]
  },
  {
   "cell_type": "code",
   "execution_count": null,
   "id": "0d24bcae",
   "metadata": {},
   "outputs": [],
   "source": [
    "plt.hist(all_effective_contact_array)"
   ]
  }
 ],
 "metadata": {
  "interpreter": {
   "hash": "981c73eafd070d074423928c764bc0ec6070d0d9756257c8a20d4d497db442af"
  },
  "kernelspec": {
   "display_name": "Python 3.9.2 64-bit",
   "language": "python",
   "name": "python3"
  },
  "language_info": {
   "codemirror_mode": {
    "name": "ipython",
    "version": 3
   },
   "file_extension": ".py",
   "mimetype": "text/x-python",
   "name": "python",
   "nbconvert_exporter": "python",
   "pygments_lexer": "ipython3",
   "version": "3.10.11"
  }
 },
 "nbformat": 4,
 "nbformat_minor": 5
}
