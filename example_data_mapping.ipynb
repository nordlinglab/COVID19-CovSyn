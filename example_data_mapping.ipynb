{
 "cells": [
  {
   "cell_type": "code",
   "execution_count": 1,
   "metadata": {},
   "outputs": [],
   "source": [
    "from firefly_optimizer import *\n",
    "from plot_results import *\n",
    "from transition_probability_estimation import *\n",
    "from Data_synthesize import *\n",
    "from rw_data_processing import *\n",
    "from scipy.optimize import leastsq\n",
    "from scipy.optimize import curve_fit\n",
    "import random\n",
    "import seaborn as sns\n",
    "import queue\n",
    "import scipy.stats as stats\n",
    "import networkx as nx\n",
    "import matplotlib.pyplot as plt\n",
    "import numpy as np\n",
    "import pandas as pd\n",
    "import powerlaw\n",
    "import time\n",
    "from datetime import datetime\n",
    "from collections import Counter\n",
    "from tqdm import tqdm\n",
    "%load_ext autoreload\n",
    "%autoreload \n",
    "plt.style.use(r\"./rw_visualization.mplstyle\")\n"
   ]
  },
  {
   "cell_type": "markdown",
   "metadata": {},
   "source": [
    "# Load data"
   ]
  },
  {
   "cell_type": "code",
   "execution_count": null,
   "metadata": {},
   "outputs": [],
   "source": [
    "# import warnings filter\n",
    "from warnings import simplefilter\n",
    "# ignore all future warnings\n",
    "simplefilter(action='ignore', category=FutureWarning)\n",
    "\n",
    "# Color\n",
    "current_palette = seaborn.color_palette()\n",
    "current_palette\n"
   ]
  },
  {
   "cell_type": "code",
   "execution_count": null,
   "metadata": {},
   "outputs": [],
   "source": [
    "data_path = Path('./synthetic_data_results_spread_Taiwan_weight')\n",
    "# min_case_num = 7*52  # 25 weeks, assuming there sould be at least 1 case per day for an outbreak case.\n",
    "min_case_num = 0 \n",
    "demographic_data_list_all, social_data_list_all, course_of_disease_data_list_all, contact_data_list_all, case_edge_list_all = \\\n",
    "    load_synthetic_data(data_path, monte_carlo_number=100, return_len='all', memory_limit=1e9, min_case_num=min_case_num)"
   ]
  },
  {
   "cell_type": "code",
   "execution_count": null,
   "metadata": {},
   "outputs": [],
   "source": [
    "print('Number of simulations:', len(demographic_data_list_all))\n",
    "print(f'Number of synthetic cases in each simulation: Simulation 1: {len(demographic_data_list_all[0])}, Simulation 2: {len(demographic_data_list_all[1])}, Simulation 3: {len(demographic_data_list_all[2])}, ...')"
   ]
  },
  {
   "cell_type": "code",
   "execution_count": null,
   "metadata": {},
   "outputs": [],
   "source": [
    "all_len_dist = {f'seed {i}': len(demographic_data_list_all[i]) for i in range(100)}\n",
    "print(all_len_dist)\n",
    "max_len = max(all_len_dist.values())\n",
    "print(f'Maximum length in the distribution found in seed: {list(all_len_dist.keys())[list(all_len_dist.values()).index(max_len)]}, with length: {max_len}')\n"
   ]
  },
  {
   "cell_type": "markdown",
   "metadata": {},
   "source": [
    "# Map the synthetic data to epidemic time series\n",
    "\n",
    "- In the following code, we only use the first simulation as an example. User can try different simulation by setting other seed index in the `seed` variable."
   ]
  },
  {
   "cell_type": "code",
   "execution_count": 25,
   "metadata": {},
   "outputs": [],
   "source": [
    "seed = 81 # Pick the seed with the biggest number of synthetic cases\n",
    "demographic_data_list = demographic_data_list_all[seed]\n",
    "course_of_disease_data_list = course_of_disease_data_list_all[seed]\n",
    "contact_data_list = contact_data_list_all[seed]\n",
    "case_edge_list = case_edge_list_all[seed]"
   ]
  },
  {
   "cell_type": "code",
   "execution_count": null,
   "metadata": {},
   "outputs": [],
   "source": [
    "time_limit = 7*52\n",
    "daily_susceptible_population, daily_infected_cases, daily_contagious_cases, daily_symptomatic_cases, \\\n",
    "            daily_confirmed_cases, daily_tested_cases, daily_suspected_cases, daily_isolation_cases, daily_critically_ill_cases, daily_recovered_cases, \\\n",
    "            daily_death_cases = transform_course_object_to_population_data(course_of_disease_data_list,\n",
    "                                                                           contact_data_list,\n",
    "                                                                           time_limit=time_limit,\n",
    "                                                                           population_size=23008366)\n",
    "daily_hospitalization = daily_isolation_cases\n",
    "plt.figure()\n",
    "plt.plot(range(time_limit+1), daily_infected_cases, label='Infected')\n",
    "plt.xlabel('Day')\n",
    "plt.ylabel('Daily number of cases')\n",
    "plt.legend(loc='best')\n",
    "\n",
    "plt.figure()\n",
    "plt.plot(range(time_limit+1), np.cumsum(daily_infected_cases), label='Infected')\n",
    "plt.plot(range(time_limit+1), np.cumsum(daily_contagious_cases), label='Contagious')\n",
    "plt.plot(range(time_limit+1), np.cumsum(daily_symptomatic_cases), label='Symptomatic')\n",
    "plt.plot(range(time_limit+1), np.cumsum(daily_confirmed_cases), label='Confirmed')\n",
    "plt.plot(range(time_limit+1), np.cumsum(daily_isolation_cases), label='Isolated/hospitalized')\n",
    "plt.plot(range(time_limit+1), np.cumsum(daily_critically_ill_cases), label='Critically ill')\n",
    "plt.plot(range(time_limit+1), np.cumsum(daily_recovered_cases), label='Recovered')\n",
    "plt.plot(range(time_limit+1), np.cumsum(daily_death_cases), label='Death')\n",
    "\n",
    "plt.xlabel('Day')\n",
    "plt.ylabel('Cumulative number of cases')\n",
    "plt.legend(loc='best')\n",
    "\n",
    "plt.figure()\n",
    "plt.plot(range(time_limit+1), np.cumsum(daily_suspected_cases), label='Suspected')\n",
    "plt.plot(range(time_limit+1), np.cumsum(daily_tested_cases), label='Tests')\n",
    "plt.xlabel('Day')\n",
    "plt.ylabel('Cumulative number of cases')\n",
    "plt.legend(loc='best')\n",
    "\n",
    "plt.figure()\n",
    "plt.plot(range(time_limit+1), daily_susceptible_population)\n",
    "plt.xlabel('Day')\n",
    "plt.ylabel('Susceptible population')"
   ]
  },
  {
   "cell_type": "markdown",
   "metadata": {},
   "source": [
    "## Doubling time"
   ]
  },
  {
   "cell_type": "code",
   "execution_count": 33,
   "metadata": {},
   "outputs": [],
   "source": [
    "def exponential_growth(t, N0, growth_rate):\n",
    "    \"\"\"\n",
    "    Exponential growth function\n",
    "    N(t) = N0 * exp(growth_rate * t)\n",
    "    \n",
    "    Parameters:\n",
    "    t : array-like\n",
    "        Time points\n",
    "    N0 : float\n",
    "        Initial number of cases\n",
    "    growth_rate : float\n",
    "        Growth rate (per unit time)\n",
    "    \"\"\"\n",
    "    return N0 * np.exp(growth_rate * t)\n",
    "\n",
    "def calculate_doubling_time(daily_infected_cases):\n",
    "    \"\"\"\n",
    "    Calculate doubling time using curve fitting to an exponential growth model\n",
    "    \n",
    "    Parameters:\n",
    "    daily_infected_cases : array-like\n",
    "        Daily number of infected cases\n",
    "    \n",
    "    Returns:\n",
    "    doubling_time : float\n",
    "        Estimated doubling time in days\n",
    "    params : tuple\n",
    "        Fitted parameters (N0, growth_rate)\n",
    "    \"\"\"\n",
    "    # Create time array (assuming daily data)\n",
    "    t = np.arange(len(daily_infected_cases))\n",
    "    \n",
    "    # Fit the exponential growth model\n",
    "    try:\n",
    "        params, covariance = curve_fit(\n",
    "            exponential_growth, \n",
    "            t, \n",
    "            daily_infected_cases,\n",
    "            p0=[daily_infected_cases[0], 0.1],  # Initial guess\n",
    "            bounds=([0, 0], [np.inf, np.inf])\n",
    "        )\n",
    "        \n",
    "        N0, growth_rate = params\n",
    "\n",
    "        \n",
    "        # Calculate doubling time\n",
    "        # For exponential growth, doubling time = ln(2)/growth_rate\n",
    "        doubling_time = np.log(2) / growth_rate\n",
    "        \n",
    "        return doubling_time, params\n",
    "    \n",
    "    except RuntimeError:\n",
    "        print(\"Error: Could not fit the exponential growth model to the data\")\n",
    "        return None, None\n"
   ]
  },
  {
   "cell_type": "code",
   "execution_count": null,
   "metadata": {},
   "outputs": [],
   "source": [
    "doubling_time, params = calculate_doubling_time(daily_infected_cases)\n",
    "print(f'Doubling time: {doubling_time} days')\n",
    "\n",
    "t = np.arange(len(daily_infected_cases))\n",
    "plt.plot(t, daily_infected_cases, label='Actual')\n",
    "plt.plot(t, exponential_growth(t, *params), label='Fitted', linestyle='--')\n",
    "plt.legend(loc='best')\n",
    "# plt.ylim([0, max(daily_infected_cases)])\n",
    "plt.show()"
   ]
  },
  {
   "cell_type": "markdown",
   "metadata": {},
   "source": [
    "# Transmission rate"
   ]
  },
  {
   "cell_type": "code",
   "execution_count": 35,
   "metadata": {},
   "outputs": [],
   "source": [
    "daily_number_of_susceptible, daily_number_of_infection, daily_number_of_recovery, daily_number_of_death = \\\n",
    "    transform_population_data_to_sird_number(daily_infected_cases, daily_recovered_cases, daily_death_cases, population_size=23215015)"
   ]
  },
  {
   "cell_type": "code",
   "execution_count": 36,
   "metadata": {},
   "outputs": [],
   "source": [
    "beta = 23215015*(-np.diff(daily_number_of_susceptible))/(daily_number_of_susceptible[1::]*daily_number_of_infection[1::])"
   ]
  },
  {
   "cell_type": "code",
   "execution_count": null,
   "metadata": {},
   "outputs": [],
   "source": [
    "plt.plot(beta)\n",
    "print('Transmission rate: ', np.nanmean(beta))\n",
    "print('Transmission rate without considering zeros: ', np.nanmean(beta[beta!=0]))\n",
    "print('Transmission rate with considering only the last days: ', np.nanmean(beta[80::]))"
   ]
  },
  {
   "cell_type": "code",
   "execution_count": null,
   "metadata": {},
   "outputs": [],
   "source": [
    "# Methods for estimating disease transmission rates: Evaluating the precision of Poisson regression and two novel methods\n",
    "# Testing on day 30\n",
    "# Poisson Method 1\n",
    "index = 60\n",
    "beta_poisson_1 = -np.log(1-daily_confirmed_cases[index+1]/daily_number_of_infection[index])/(daily_number_of_susceptible[index]/23215015)\n",
    "print(beta_poisson_1)\n",
    "# Poisson Method 2\n",
    "beta_poisson_2 = -np.log(1-daily_confirmed_cases[index+1]*(1/daily_number_of_infection[index]+1/daily_number_of_susceptible[index]))\n",
    "print(beta_poisson_2)"
   ]
  },
  {
   "cell_type": "markdown",
   "metadata": {},
   "source": [
    "# Serial interval and generation time"
   ]
  },
  {
   "cell_type": "code",
   "execution_count": null,
   "metadata": {},
   "outputs": [],
   "source": [
    "generation_time_array = generate_generation_time(course_of_disease_data_list, case_edge_list)\n",
    "_ = plt.hist(generation_time_array, bins=100)\n",
    "print(f\"Average generation time: {np.nanmean(generation_time_array)} days\")"
   ]
  },
  {
   "cell_type": "code",
   "execution_count": null,
   "metadata": {},
   "outputs": [],
   "source": [
    "serial_interval_array = generate_serial_interval(course_of_disease_data_list, case_edge_list)\n",
    "_ = plt.hist(serial_interval_array, bins=100)\n",
    "print(f\"Average serial interval: {np.nanmean(serial_interval_array)} days\")"
   ]
  },
  {
   "cell_type": "markdown",
   "metadata": {},
   "source": [
    "# State transition time"
   ]
  },
  {
   "cell_type": "markdown",
   "metadata": {},
   "source": [
    "## Symptom to hospitalization"
   ]
  },
  {
   "cell_type": "code",
   "execution_count": 41,
   "metadata": {},
   "outputs": [],
   "source": [
    "time_from_symptom_to_hospitalization = []\n",
    "for i in range(len(course_of_disease_data_list)):\n",
    "    symptom_t = course_of_disease_data_list[i]['infection_day'] + course_of_disease_data_list[i]['incubation_period']\n",
    "    hospitalization_t = course_of_disease_data_list[i]['infection_day'] + course_of_disease_data_list[i]['monitor_isolation_period']\n",
    "    time_from_symptom_to_hospitalization.append(hospitalization_t - symptom_t)"
   ]
  },
  {
   "cell_type": "code",
   "execution_count": null,
   "metadata": {},
   "outputs": [],
   "source": [
    "plt.hist(time_from_symptom_to_hospitalization, bins=100)\n",
    "print(f\"Average time from symptom to hospitalization: {np.nanmean(time_from_symptom_to_hospitalization):.1f} days\")"
   ]
  },
  {
   "cell_type": "markdown",
   "metadata": {},
   "source": [
    "## Hospital length of stay"
   ]
  },
  {
   "cell_type": "code",
   "execution_count": 43,
   "metadata": {},
   "outputs": [],
   "source": [
    "time_hospital_stay = []\n",
    "for i in range(len(course_of_disease_data_list)):\n",
    "    hospitalization_t = course_of_disease_data_list[i]['infection_day'] + course_of_disease_data_list[i]['monitor_isolation_period']\n",
    "    if not np.isnan(course_of_disease_data_list[i]['date_of_recovery']):\n",
    "        time_hospital_stay.append(course_of_disease_data_list[i]['date_of_recovery'] - hospitalization_t)\n",
    "    else:\n",
    "        time_hospital_stay.append(course_of_disease_data_list[i]['date_of_death'] - hospitalization_t)"
   ]
  },
  {
   "cell_type": "code",
   "execution_count": null,
   "metadata": {},
   "outputs": [],
   "source": [
    "plt.hist(time_hospital_stay, bins=100)\n",
    "plt.xlabel('Days of hospital stay')\n",
    "plt.ylabel('Frequency')\n",
    "print(f\"Average hospital length of stay: {np.nanmean(time_hospital_stay):.1f} days\")"
   ]
  },
  {
   "cell_type": "markdown",
   "metadata": {},
   "source": [
    "## ICU length of stay"
   ]
  },
  {
   "cell_type": "code",
   "execution_count": 45,
   "metadata": {},
   "outputs": [],
   "source": [
    "time_icu_stay = []\n",
    "for i in range(len(course_of_disease_data_list)):\n",
    "    icu_t = course_of_disease_data_list[i]['date_of_critically_ill']\n",
    "    if not np.isnan(course_of_disease_data_list[i]['date_of_recovery']):\n",
    "        time_icu_stay.append(course_of_disease_data_list[i]['date_of_recovery'] - icu_t)\n",
    "    else:\n",
    "        time_icu_stay.append(course_of_disease_data_list[i]['date_of_death'] - icu_t)"
   ]
  },
  {
   "cell_type": "code",
   "execution_count": null,
   "metadata": {},
   "outputs": [],
   "source": [
    "plt.hist(time_icu_stay, bins=100)\n",
    "plt.xlabel('Days of icu stay')\n",
    "plt.ylabel('Frequency')\n",
    "print(f\"Average icu length of stay: {np.nanmean(time_icu_stay):.1f} days\")"
   ]
  },
  {
   "cell_type": "markdown",
   "metadata": {},
   "source": [
    "# Rate\n",
    "\n",
    "NOTE: For the current version of data synthesis alsorithm, the hospitalization is 1."
   ]
  },
  {
   "cell_type": "code",
   "execution_count": null,
   "metadata": {},
   "outputs": [],
   "source": [
    "age_dependent_mortality_rate = np.zeros(100) # age 0 to 99\n",
    "age_number_list = np.zeros(100)\n",
    "for i in range(len(course_of_disease_data_list)):\n",
    "    age = demographic_data_list[i]['age']\n",
    "    age_number_list[age] += 1\n",
    "    if not np.isnan(course_of_disease_data_list[i]['date_of_death']):\n",
    "        age_dependent_mortality_rate[age] += 1\n",
    "\n",
    "\n",
    "age_dependent_mortality_rate = age_dependent_mortality_rate/age_number_list"
   ]
  },
  {
   "cell_type": "code",
   "execution_count": null,
   "metadata": {},
   "outputs": [],
   "source": [
    "plt.bar(range(len(age_dependent_mortality_rate)), age_dependent_mortality_rate)\n",
    "plt.xlabel('Age')\n",
    "plt.ylabel('Mortality Rate')\n",
    "plt.title('Age-Dependent Mortality Rate')\n",
    "plt.xlim([-1, 100])\n",
    "plt.show()"
   ]
  },
  {
   "cell_type": "markdown",
   "metadata": {},
   "source": [
    "# Proportion"
   ]
  },
  {
   "cell_type": "code",
   "execution_count": null,
   "metadata": {},
   "outputs": [],
   "source": [
    "asymptomatic_counts = 0\n",
    "mild_counts = 0\n",
    "severe_counts = 0\n",
    "for i in range(len(course_of_disease_data_list)):\n",
    "    if np.isnan(course_of_disease_data_list[i]['incubation_period']):\n",
    "        asymptomatic_counts += 1\n",
    "    if np.isnan(course_of_disease_data_list[i]['date_of_critically_ill']):\n",
    "        mild_counts += 1\n",
    "    else:\n",
    "        severe_counts += 1\n",
    "\n",
    "proportion_of_asymptomatic_cases = asymptomatic_counts/len(course_of_disease_data_list)\n",
    "print(f\"Proportion of asymptomatic cases: {proportion_of_asymptomatic_cases:.2f}\")\n",
    "\n",
    "proportion_of_mild_cases = mild_counts/len(course_of_disease_data_list)\n",
    "print(f\"Proportion of mild cases: {proportion_of_mild_cases:.2f}\")\n",
    "\n",
    "proportion_of_severe_cases = severe_counts/len(course_of_disease_data_list)\n",
    "print(f\"Proportion of severe cases: {proportion_of_severe_cases:.2f}\")"
   ]
  },
  {
   "cell_type": "code",
   "execution_count": null,
   "metadata": {},
   "outputs": [],
   "source": [
    "age_number_list = np.zeros(100)\n",
    "age_asymptomatic_counts = np.zeros(100)\n",
    "age_mild_counts = np.zeros(100)\n",
    "age_severe_counts = np.zeros(100)\n",
    "for i in range(len(course_of_disease_data_list)):\n",
    "    age = demographic_data_list[i]['age']\n",
    "    age_number_list[age] += 1\n",
    "    if np.isnan(course_of_disease_data_list[i]['incubation_period']):\n",
    "        age_asymptomatic_counts[age] += 1\n",
    "    if np.isnan(course_of_disease_data_list[i]['date_of_critically_ill']):\n",
    "        age_mild_counts[age] += 1\n",
    "    else:\n",
    "        age_severe_counts[age] += 1\n",
    "\n",
    "age_asymptomatic_counts = age_asymptomatic_counts/age_number_list\n",
    "age_mild_counts = age_mild_counts/age_number_list\n",
    "age_severe_counts = age_severe_counts/age_number_list\n",
    "\n",
    "\n",
    "plt.bar(range(len(age_asymptomatic_counts)), age_asymptomatic_counts)\n",
    "plt.xlabel('Age')\n",
    "plt.ylabel('Proportion of asymptomatic cases')\n",
    "plt.title('Age-Dependent Proportion of Asymptomatic Cases')\n",
    "plt.xlim([-1, 100])\n",
    "plt.show()\n",
    "\n",
    "plt.bar(range(len(age_mild_counts)), age_mild_counts)\n",
    "plt.xlabel('Age')\n",
    "plt.ylabel('Proportion of mild cases')\n",
    "plt.title('Age-Dependent Proportion of Mild Cases')\n",
    "plt.xlim([-1, 100])\n",
    "plt.show()\n",
    "\n",
    "plt.bar(range(len(age_severe_counts)), age_severe_counts)\n",
    "plt.xlabel('Age')\n",
    "plt.ylabel('Proportion of severe cases')\n",
    "plt.title('Age-Dependent Proportion of Severe Cases')\n",
    "plt.xlim([-1, 100])\n",
    "plt.show()"
   ]
  },
  {
   "cell_type": "markdown",
   "metadata": {},
   "source": [
    "# R0"
   ]
  },
  {
   "cell_type": "code",
   "execution_count": 51,
   "metadata": {},
   "outputs": [],
   "source": [
    "code_path = Path('../').resolve()\n",
    "sys.path.append(str(code_path))"
   ]
  },
  {
   "cell_type": "code",
   "execution_count": 53,
   "metadata": {},
   "outputs": [],
   "source": [
    "from R0_network import R0_average_effective_contact"
   ]
  },
  {
   "cell_type": "code",
   "execution_count": null,
   "metadata": {},
   "outputs": [],
   "source": [
    "R0 = R0_average_effective_contact(contact_data_list)\n",
    "print(f\"R0: {R0}\")"
   ]
  },
  {
   "cell_type": "markdown",
   "metadata": {},
   "source": [
    "# Test"
   ]
  },
  {
   "cell_type": "code",
   "execution_count": null,
   "metadata": {},
   "outputs": [],
   "source": [
    "# Consider only the negative test\n",
    "test_accuracy_list = []\n",
    "for i in range(len(course_of_disease_data_list)):\n",
    "    test_accuracy = np.sum(course_of_disease_data_list[i]['negative_test_status'])/len(course_of_disease_data_list[i]['negative_test_status'])\n",
    "    test_accuracy_list.append(test_accuracy)\n",
    "    \n",
    "print(f\"Average test accuracy: {np.mean(test_accuracy_list):.2f}\")"
   ]
  },
  {
   "cell_type": "code",
   "execution_count": null,
   "metadata": {},
   "outputs": [],
   "source": [
    "# The positive test accuracy is 1\n",
    "# Combine the positive test information into the calculation of the the test accuracy\n",
    "test_accuracy_list = []\n",
    "for i in range(len(course_of_disease_data_list)):\n",
    "    test_accuracy = np.sum(course_of_disease_data_list[i]['negative_test_status'])/len(course_of_disease_data_list[i]['negative_test_status'])\n",
    "    test_accuracy_list.append(test_accuracy)\n",
    "for i in range(len(course_of_disease_data_list)):\n",
    "    test_accuracy_list.append(1)\n",
    "    \n",
    "print(f\"Average test accuracy: {np.mean(test_accuracy_list):.2f}\")"
   ]
  }
 ],
 "metadata": {
  "kernelspec": {
   "display_name": "Python 3",
   "language": "python",
   "name": "python3"
  },
  "language_info": {
   "codemirror_mode": {
    "name": "ipython",
    "version": 3
   },
   "file_extension": ".py",
   "mimetype": "text/x-python",
   "name": "python",
   "nbconvert_exporter": "python",
   "pygments_lexer": "ipython3",
   "version": "3.10.11"
  }
 },
 "nbformat": 4,
 "nbformat_minor": 2
}
